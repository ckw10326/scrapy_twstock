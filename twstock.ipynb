{
 "cells": [
  {
   "cell_type": "code",
   "execution_count": 6,
   "metadata": {},
   "outputs": [],
   "source": [
    "import twstock\n",
    "stock = twstock.Stock('2330')\n"
   ]
  },
  {
   "cell_type": "code",
   "execution_count": 7,
   "metadata": {},
   "outputs": [
    {
     "data": {
      "text/plain": [
       "[841.0,\n",
       " 835.0,\n",
       " 835.0,\n",
       " 841.0,\n",
       " 864.0,\n",
       " 875.0,\n",
       " 867.0,\n",
       " 869.0,\n",
       " 865.0,\n",
       " 857.0,\n",
       " 838.0,\n",
       " 821.0,\n",
       " 846.0,\n",
       " 839.0,\n",
       " 854.0,\n",
       " 894.0,\n",
       " 879.0,\n",
       " 883.0,\n",
       " 909.0,\n",
       " 919.0,\n",
       " 922.0,\n",
       " 921.0,\n",
       " 943.0,\n",
       " 981.0,\n",
       " 981.0,\n",
       " 970.0,\n",
       " 940.0,\n",
       " 945.0,\n",
       " 960.0,\n",
       " 960.0,\n",
       " 966.0]"
      ]
     },
     "execution_count": 7,
     "metadata": {},
     "output_type": "execute_result"
    }
   ],
   "source": [
    "stock.price"
   ]
  },
  {
   "cell_type": "code",
   "execution_count": null,
   "metadata": {},
   "outputs": [],
   "source": [
    "stock.high"
   ]
  },
  {
   "cell_type": "code",
   "execution_count": 3,
   "metadata": {},
   "outputs": [
    {
     "data": {
      "text/plain": [
       "[datetime.datetime(2024, 5, 16, 0, 0),\n",
       " datetime.datetime(2024, 5, 17, 0, 0),\n",
       " datetime.datetime(2024, 5, 20, 0, 0),\n",
       " datetime.datetime(2024, 5, 21, 0, 0),\n",
       " datetime.datetime(2024, 5, 22, 0, 0),\n",
       " datetime.datetime(2024, 5, 23, 0, 0),\n",
       " datetime.datetime(2024, 5, 24, 0, 0),\n",
       " datetime.datetime(2024, 5, 27, 0, 0),\n",
       " datetime.datetime(2024, 5, 28, 0, 0),\n",
       " datetime.datetime(2024, 5, 29, 0, 0),\n",
       " datetime.datetime(2024, 5, 30, 0, 0),\n",
       " datetime.datetime(2024, 5, 31, 0, 0),\n",
       " datetime.datetime(2024, 6, 3, 0, 0),\n",
       " datetime.datetime(2024, 6, 4, 0, 0),\n",
       " datetime.datetime(2024, 6, 5, 0, 0),\n",
       " datetime.datetime(2024, 6, 6, 0, 0),\n",
       " datetime.datetime(2024, 6, 7, 0, 0),\n",
       " datetime.datetime(2024, 6, 11, 0, 0),\n",
       " datetime.datetime(2024, 6, 12, 0, 0),\n",
       " datetime.datetime(2024, 6, 13, 0, 0),\n",
       " datetime.datetime(2024, 6, 14, 0, 0),\n",
       " datetime.datetime(2024, 6, 17, 0, 0),\n",
       " datetime.datetime(2024, 6, 18, 0, 0),\n",
       " datetime.datetime(2024, 6, 19, 0, 0),\n",
       " datetime.datetime(2024, 6, 20, 0, 0),\n",
       " datetime.datetime(2024, 6, 21, 0, 0),\n",
       " datetime.datetime(2024, 6, 24, 0, 0),\n",
       " datetime.datetime(2024, 6, 25, 0, 0),\n",
       " datetime.datetime(2024, 6, 26, 0, 0),\n",
       " datetime.datetime(2024, 6, 27, 0, 0),\n",
       " datetime.datetime(2024, 6, 28, 0, 0)]"
      ]
     },
     "execution_count": 3,
     "metadata": {},
     "output_type": "execute_result"
    }
   ],
   "source": [
    "stock.date"
   ]
  },
  {
   "cell_type": "code",
   "execution_count": null,
   "metadata": {},
   "outputs": [],
   "source": []
  }
 ],
 "metadata": {
  "kernelspec": {
   "display_name": "env0220",
   "language": "python",
   "name": "python3"
  },
  "language_info": {
   "codemirror_mode": {
    "name": "ipython",
    "version": 3
   },
   "file_extension": ".py",
   "mimetype": "text/x-python",
   "name": "python",
   "nbconvert_exporter": "python",
   "pygments_lexer": "ipython3",
   "version": "3.12.0"
  }
 },
 "nbformat": 4,
 "nbformat_minor": 2
}
